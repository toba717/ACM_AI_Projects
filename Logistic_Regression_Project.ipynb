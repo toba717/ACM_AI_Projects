{
  "nbformat": 4,
  "nbformat_minor": 0,
  "metadata": {
    "kernelspec": {
      "display_name": "Python 3",
      "language": "python",
      "name": "python3"
    },
    "language_info": {
      "codemirror_mode": {
        "name": "ipython",
        "version": 3
      },
      "file_extension": ".py",
      "mimetype": "text/x-python",
      "name": "python",
      "nbconvert_exporter": "python",
      "pygments_lexer": "ipython3",
      "version": "3.7.6"
    },
    "colab": {
      "provenance": [],
      "include_colab_link": true
    }
  },
  "cells": [
    {
      "cell_type": "markdown",
      "metadata": {
        "id": "view-in-github",
        "colab_type": "text"
      },
      "source": [
        "<a href=\"https://colab.research.google.com/github/toba717/ACM_AI_Projects/blob/main/Logistic_Regression_Project.ipynb\" target=\"_parent\"><img src=\"https://colab.research.google.com/assets/colab-badge.svg\" alt=\"Open In Colab\"/></a>"
      ]
    },
    {
      "cell_type": "markdown",
      "metadata": {
        "id": "Jmh2INi9WQj8"
      },
      "source": [
        "# **Logistic Regression Final Project**\n",
        "Takao Oba\n",
        "\n",
        "ACM AI"
      ]
    },
    {
      "cell_type": "markdown",
      "source": [
        "# We will be generating a model utilizing logistic regression "
      ],
      "metadata": {
        "id": "ATk5YpZgkQP3"
      }
    },
    {
      "cell_type": "code",
      "source": [
        "# import modules\n",
        "import matplotlib.pyplot as plt\n",
        "import numpy as np\n",
        "import pandas as pd\n",
        "from sklearn.model_selection import train_test_split\n",
        "from sklearn.metrics import accuracy_score"
      ],
      "metadata": {
        "id": "RCK3tzhMkWFd"
      },
      "execution_count": 25,
      "outputs": []
    },
    {
      "cell_type": "code",
      "source": [
        "# set the random seed\n",
        "np.random.seed(0)"
      ],
      "metadata": {
        "id": "-Mr0VKULk0Ei"
      },
      "execution_count": 26,
      "outputs": []
    },
    {
      "cell_type": "code",
      "source": [
        "# create data\n",
        "x11 = np.random.normal(loc=3, size=100)\n",
        "x12 = np.random.normal(loc=5, size=100)\n",
        "\n",
        "x0 = np.stack((x11, x12)).T\n",
        "\n",
        "x21 = np.random.normal(loc=6, size=100)\n",
        "x22 = np.random.normal(loc=7, size=100)\n",
        "\n",
        "x1 = np.stack((x21, x22)).T\n",
        "\n",
        "X_ori = np.zeros((200, 2))\n",
        "y_ori = np.zeros(200)\n",
        "y_ori[100:] = 1\n",
        "X_ori[:100] = x0\n",
        "X_ori[100:] = x1\n",
        "\n",
        "indicies = np.random.choice(np.arange(200), replace=False, size=200)\n",
        "X = np.zeros((200, 2))\n",
        "y = np.zeros(200)\n",
        "X = X_ori[indicies]\n",
        "y = y_ori[indicies]\n",
        "\n",
        "plt.scatter(x11, x12, label='Class 0')\n",
        "plt.scatter(x21, x22, label='Class 1')\n",
        "plt.legend()\n",
        "\n",
        "# augment with 1's\n",
        "\n",
        "# X = np.hstack((np.ones((200, 1)), X))"
      ],
      "metadata": {
        "id": "TGhEMzknk1lL",
        "colab": {
          "base_uri": "https://localhost:8080/",
          "height": 283
        },
        "outputId": "b48da16f-914c-4aed-966e-628dbff18164"
      },
      "execution_count": 27,
      "outputs": [
        {
          "output_type": "execute_result",
          "data": {
            "text/plain": [
              "<matplotlib.legend.Legend at 0x7f664ad58790>"
            ]
          },
          "metadata": {},
          "execution_count": 27
        },
        {
          "output_type": "display_data",
          "data": {
            "text/plain": [
              "<Figure size 432x288 with 1 Axes>"
            ],
            "image/png": "[encoded data removed]"
          },
          "metadata": {
            "needs_background": "light"
          }
        }
      ]
    },
    {
      "cell_type": "code",
      "source": [
        "# shape\n",
        "print('Shape of X:', X.shape)\n",
        "print('Shape of y:', y.shape)"
      ],
      "metadata": {
        "id": "_4qiXDpek3k9",
        "colab": {
          "base_uri": "https://localhost:8080/"
        },
        "outputId": "4eb51c76-6166-42e4-a87f-ad41c6c40389"
      },
      "execution_count": 28,
      "outputs": [
        {
          "output_type": "stream",
          "name": "stdout",
          "text": [
            "Shape of X: (200, 2)\n",
            "Shape of y: (200,)\n"
          ]
        }
      ]
    },
    {
      "cell_type": "code",
      "source": [
        "# Split training and test data with train_test_split - 1 line\n",
        "X_train, X_test, y_train, y_test = train_test_split(X, y, test_size=0.2, random_state=0)"
      ],
      "metadata": {
        "id": "LRTrMX0Yk5t9"
      },
      "execution_count": 29,
      "outputs": []
    },
    {
      "cell_type": "markdown",
      "source": [
        "###**Classes in Python**"
      ],
      "metadata": {
        "id": "0r3c10k4k7Ny"
      }
    },
    {
      "cell_type": "code",
      "source": [
        "class Rectangle: \n",
        "\n",
        "  def __init__(self, b, h): \n",
        "      self.b = b \n",
        "      self.h = h \n",
        "  def area(self): \n",
        "      return self.b*self.h \n",
        "  def perimeter(self): \n",
        "      # TO DO \n",
        "      return self.b*2 + self.h*2\n",
        "      "
      ],
      "metadata": {
        "id": "MCJIHE4fk_Gs"
      },
      "execution_count": 30,
      "outputs": []
    },
    {
      "cell_type": "code",
      "source": [
        "my_rect = Rectangle(3, 5) \n",
        "print(\"Area: \", my_rect.area())\n",
        "print(\"Perimeter: \", my_rect.perimeter())"
      ],
      "metadata": {
        "id": "eszdqeTxk_Mx",
        "colab": {
          "base_uri": "https://localhost:8080/"
        },
        "outputId": "6bd73870-452c-4bba-a81d-78a0190e0349"
      },
      "execution_count": 31,
      "outputs": [
        {
          "output_type": "stream",
          "name": "stdout",
          "text": [
            "Area:  15\n",
            "Perimeter:  16\n"
          ]
        }
      ]
    },
    {
      "cell_type": "markdown",
      "source": [
        "# $$\\textbf{Brief Review of Logistic Regression}$$\n",
        "#### N: number of samples\n",
        "#### f: number of features\n",
        "#### X: data; shape = (N, f)\n",
        "#### y: labels/targets; shape = (N, )\n",
        "#### W: weights; shape = (f, )\n",
        "#### b: bias; scalar\n",
        "#### a: learning rate; scalar\n",
        "\n",
        "## $$\\textbf{Our hypothesis}$$\n",
        "### $$\\hat{y}(X)=\\sigma{(XW+b)}$$\n",
        "\n",
        "## $$\\textbf{Loss function - Binary Cross Entropy}$$\n",
        "### $$L(y, \\hat{y}) = -\\frac{1}{N} \\sum_{i=1}^{N}\\big(y_i\\log(\\hat{y_i}) + (1-y_i)\\log(1-\\hat{y_i})\\big) $$\n",
        "\n",
        "## $$\\textbf{Gradients of Loss with respect to W, b}$$\n",
        "### $$ \\frac{\\partial L}{\\partial W} = \\frac{2}{N}X^T\\big(\\hat{y}-y\\big)$$\n",
        "### $$ \\frac{\\partial L}{\\partial b} = \\frac{2}{N}\\sum_{i=1}^{N}\\big(\\hat{y_i}-y_i\\big)$$\n",
        "\n",
        "## $$\\textbf{Gradient Descent - update W, b accordingly}$$\n",
        "### $$W = W - \\alpha \\frac{\\partial L}{\\partial W}$$\n",
        "### $$b = b - \\alpha \\frac{\\partial L}{\\partial b}$$"
      ],
      "metadata": {
        "id": "urLwZVQ8lFPr"
      }
    },
    {
      "cell_type": "code",
      "source": [
        "# Logistic Regression Class\n",
        "class Logistic_Regression():\n",
        "  def __init__(self, num_epochs=2000, lr=0.6, verbose=False):\n",
        "    \"\"\"\n",
        "    Logistic Regression (aka logit, MaxEnt) classifier.\n",
        "\n",
        "    Logistic_Regression fits a linear model with coefficients w = (w1, ..., wf)\n",
        "    to minimize the binary cross entropy loss between the observed targets in\n",
        "    the dataset, and the targets predicted by the linear approximation.\n",
        "\n",
        "    Parameters:\n",
        "      num_epochs - number of epochs\n",
        "      lr - learning rate\n",
        "      verbose - creates a plot if set to True\n",
        "\n",
        "    Attributes:\n",
        "      epochs - number of epochs\n",
        "      alpha - learning rate\n",
        "      verbose - creates a plot if set to True\n",
        "      weights - numpy.ndarray with shape (f, )\n",
        "      bias - float\n",
        "      losses - list containing the loss of each epoch\n",
        "    \"\"\"\n",
        "    self.epochs = num_epochs\n",
        "    self.alpha = lr\n",
        "    self.verbose = verbose\n",
        "\n",
        "  def init_params(self, X):\n",
        "    \"\"\"\n",
        "    Initialize the parameters of the model based on input data.\n",
        "\n",
        "    Parameters:\n",
        "      X - data: numpy.ndarray with shape (N, f)\n",
        "\n",
        "    Returns:\n",
        "      nothing\n",
        "    \"\"\"\n",
        "    # Initialize weights and biases according to the shapes of the input - 2 lines\n",
        "    self.weights = np.random.rand(X.shape[1])\n",
        "    self.bias = np.random.rand()\n",
        "\n",
        "    self.losses = []\n",
        "    \n",
        "\n",
        "  \n",
        "  def activate(self, z):\n",
        "    \"\"\"\n",
        "    Activate the outputs of your model using the sigmoid function\n",
        "\n",
        "    Parameters:\n",
        "      z - outputs: numpy.ndarray with shape (N, )\n",
        "\n",
        "    Returns:\n",
        "      activations - numpy.ndarray with shape (N, )\n",
        "    \"\"\"\n",
        "    # Implement sigmoid activation function - 1 line\n",
        "    activations = 1/(1 + np.exp(-z))\n",
        "    return activations\n",
        "\n",
        "\n",
        "  def predict(self, X):\n",
        "    \"\"\"\n",
        "    Makes a prediction using the hypothesis.\n",
        "\n",
        "    Parameters:\n",
        "      X - data: numpy.ndarray with shape (N, f)\n",
        "\n",
        "    Returns:\n",
        "      predictions - numpy.ndarray with shape (N, )\n",
        "    \"\"\"\n",
        "    # Implement predict (using our hypothesis) - 1 line\n",
        "    predictions = np.dot(X, self.weights) + self.bias\n",
        "    return self.activate(predictions)\n",
        "\n",
        "  def loss(self, y, y_hat):\n",
        "    \"\"\"\n",
        "    Computes the Binary Cross Entropy Loss of the current predictions.\n",
        "\n",
        "    Parameters:\n",
        "      y - targets: numpy.ndarray with shape (N, )\n",
        "      y_hat - predictions: numpy.ndarray with shape (N, )\n",
        "\n",
        "    Returns:\n",
        "      loss - float\n",
        "    \"\"\"\n",
        "    # Compute loss (Binary Cross Entropy) - 1 line\n",
        "    log_loss = - np.average(y * np.log(np.abs(y_hat)) + (1-y) * np.log(np.abs(1-y_hat)))\n",
        "    return log_loss\n",
        "\n",
        "  def grads(self, X, y, y_hat):\n",
        "    \"\"\"\n",
        "    Computes the gradients of the loss with respect the weights and bias.\n",
        "\n",
        "    Parameters:\n",
        "      X - data: numpy.ndarray with shape (N, f)\n",
        "      y - targets: numpy.ndarray with shape (N, )\n",
        "      y_hat - predictions: numpy.ndarray with shape (N, )\n",
        "\n",
        "    Returns:\n",
        "      grads - tuple containing the gradients dw, db\n",
        "    \"\"\"\n",
        "    n = y.shape[0]\n",
        "    # Compute gradients - 2 lines\n",
        "   \n",
        "    dw = (2/n)*np.dot(X.T, (y_hat - y))\n",
        "    db = (2/n)*np.sum(y_hat - y)\n",
        "    return dw, db\n",
        "\n",
        "  def fit(self, X, y):\n",
        "    \"\"\"\n",
        "    Fits the model to the training data and targets.\n",
        "\n",
        "    Parameters:\n",
        "      X - training data: numpy.ndarray with shape (N, f)\n",
        "      y - targets: numpy.ndarray with shape (N, )\n",
        "\n",
        "    Returns:\n",
        "      a reference to self\n",
        "    \"\"\"\n",
        "    self.init_params(X)\n",
        "    # main loop for training\n",
        "    for i in range(self.epochs):\n",
        "      # TO DO: implement the training routine - about 5 lines\n",
        "      predictions = self.predict(X)\n",
        "      loss = self.loss(y, predictions)\n",
        "      dw, db = self.grads(X, y, predictions)\n",
        "\n",
        "      self.weights -= self.alpha * dw\n",
        "      self.bias -= self.alpha * db\n",
        "\n",
        "      self.losses.append(loss)\n",
        "\n",
        "    if self.verbose:\n",
        "      plt.figure(figsize=[8, 6])\n",
        "      plt.xlabel('epoch')\n",
        "      plt.ylabel('loss')\n",
        "      plt.plot(np.arange(1, len(self.losses) + 1), self.losses)\n",
        "      plt.show()\n",
        "\n",
        "    return self"
      ],
      "metadata": {
        "id": "LWhxuW9KlGUu"
      },
      "execution_count": 32,
      "outputs": []
    },
    {
      "cell_type": "code",
      "source": [
        "log_reg = Logistic_Regression(verbose=True).fit(X_train, y_train)"
      ],
      "metadata": {
        "id": "jMjq8Z4ZmIUp",
        "colab": {
          "base_uri": "https://localhost:8080/",
          "height": 424
        },
        "outputId": "1e57406b-3162-46d6-8477-b61c9c0c28e6"
      },
      "execution_count": 33,
      "outputs": [
        {
          "output_type": "stream",
          "name": "stderr",
          "text": [
            "/usr/local/lib/python3.7/dist-packages/ipykernel_launcher.py:87: RuntimeWarning: divide by zero encountered in log\n",
            "/usr/local/lib/python3.7/dist-packages/ipykernel_launcher.py:87: RuntimeWarning: invalid value encountered in multiply\n"
          ]
        },
        {
          "output_type": "display_data",
          "data": {
            "text/plain": [
              "<Figure size 576x432 with 1 Axes>"
            ],
            "image/png": "[encoded data removed]"
          },
          "metadata": {
            "needs_background": "light"
          }
        }
      ]
    },
    {
      "cell_type": "code",
      "source": [
        "print('weights:', log_reg.weights)\n",
        "print('bias:', log_reg.bias.round(10))"
      ],
      "metadata": {
        "id": "IJkJkYIhmK8h",
        "colab": {
          "base_uri": "https://localhost:8080/"
        },
        "outputId": "00c6332a-a56b-43bf-932b-996bea2b2d7a"
      },
      "execution_count": 34,
      "outputs": [
        {
          "output_type": "stream",
          "name": "stdout",
          "text": [
            "weights: [4.01790816 2.10164541]\n",
            "bias: -32.2779933838\n"
          ]
        }
      ]
    },
    {
      "cell_type": "markdown",
      "source": [
        "### **Data Visualization**"
      ],
      "metadata": {
        "id": "W055MpxRmOIH"
      }
    },
    {
      "cell_type": "code",
      "source": [
        "# plot original data\n",
        "y_pred = log_reg.predict(X)\n",
        "plt.scatter(x11, x12, label='Class 0')\n",
        "plt.scatter(x21, x22, label='Class 1')\n",
        "plt.legend()"
      ],
      "metadata": {
        "id": "zh42alGmmP-6",
        "colab": {
          "base_uri": "https://localhost:8080/",
          "height": 283
        },
        "outputId": "f18a1a4f-bb3a-4d84-e3c9-5edb8ab924a1"
      },
      "execution_count": 35,
      "outputs": [
        {
          "output_type": "execute_result",
          "data": {
            "text/plain": [
              "<matplotlib.legend.Legend at 0x7f664ac5d710>"
            ]
          },
          "metadata": {},
          "execution_count": 35
        },
        {
          "output_type": "display_data",
          "data": {
            "text/plain": [
              "<Figure size 432x288 with 1 Axes>"
            ],
            "image/png": "[encoded data removed]"
          },
          "metadata": {
            "needs_background": "light"
          }
        }
      ]
    },
    {
      "cell_type": "code",
      "source": [
        "# plot what our model predicts\n",
        "plt.scatter(X[y_pred < 0.5][:, 0], X[y_pred < 0.5][:, 1], label='pred blue')\n",
        "plt.scatter(X[y_pred > 0.5][:, 0], X[y_pred > 0.5][:, 1], label='pred orange')\n",
        "plt.legend()"
      ],
      "metadata": {
        "id": "IO3tOjiHmSXU",
        "colab": {
          "base_uri": "https://localhost:8080/",
          "height": 283
        },
        "outputId": "df8d0e9d-6d68-48e9-bd98-43944033b682"
      },
      "execution_count": 36,
      "outputs": [
        {
          "output_type": "execute_result",
          "data": {
            "text/plain": [
              "<matplotlib.legend.Legend at 0x7f664abd5cd0>"
            ]
          },
          "metadata": {},
          "execution_count": 36
        },
        {
          "output_type": "display_data",
          "data": {
            "text/plain": [
              "<Figure size 432x288 with 1 Axes>"
            ],
            "image/png": "[encoded data removed]"
          },
          "metadata": {
            "needs_background": "light"
          }
        }
      ]
    },
    {
      "cell_type": "code",
      "source": [
        "# plot decision boundary\n",
        "plt.figure(figsize=(8, 6))\n",
        "plt.scatter(x11, x12, label='Class 0')\n",
        "plt.scatter(x21, x22, label='Class 1')\n",
        "\n",
        "slope = - (log_reg.weights[0]/log_reg.weights[1])\n",
        "intercept = - (log_reg.bias/log_reg.weights[1])\n",
        "X_plot = np.arange(2, 7)\n",
        "y_plot = slope * X_plot + intercept\n",
        "plt.plot(X_plot, y_plot, c='black', label='decision boundary')\n",
        "\n",
        "plt.legend()"
      ],
      "metadata": {
        "id": "TRUWe9QCmUbS",
        "colab": {
          "base_uri": "https://localhost:8080/",
          "height": 392
        },
        "outputId": "3e5a8d91-3ca9-4b98-e66a-edad5103e807"
      },
      "execution_count": 37,
      "outputs": [
        {
          "output_type": "execute_result",
          "data": {
            "text/plain": [
              "<matplotlib.legend.Legend at 0x7f664ab816d0>"
            ]
          },
          "metadata": {},
          "execution_count": 37
        },
        {
          "output_type": "display_data",
          "data": {
            "text/plain": [
              "<Figure size 576x432 with 1 Axes>"
            ],
            "image/png": "[encoded data removed]"
          },
          "metadata": {
            "needs_background": "light"
          }
        }
      ]
    },
    {
      "cell_type": "markdown",
      "source": [
        "# Which accuracy do you expect to be higher?"
      ],
      "metadata": {
        "id": "uvnRdE1emXVW"
      }
    },
    {
      "cell_type": "code",
      "source": [
        "# Compute train accuracy - 2 lines\n",
        "y_pred = log_reg.predict(X_train)\n",
        "y_pred = y_pred > 0.5\n",
        "print('Train Accuracy:', accuracy_score(y_train, y_pred))"
      ],
      "metadata": {
        "id": "ojhihbJKmW_P",
        "colab": {
          "base_uri": "https://localhost:8080/"
        },
        "outputId": "355ba253-3056-459e-ace7-0599351f5d82"
      },
      "execution_count": 38,
      "outputs": [
        {
          "output_type": "stream",
          "name": "stdout",
          "text": [
            "Train Accuracy: 0.9375\n"
          ]
        }
      ]
    },
    {
      "cell_type": "code",
      "source": [
        "# Compute test accuracy - 2 lines\n",
        "y_pred = log_reg.predict(X_test)\n",
        "y_pred = y_pred > 0.5\n",
        "print('Test Accuracy:', accuracy_score(y_test, y_pred))"
      ],
      "metadata": {
        "id": "_BjaHKbrmalp",
        "colab": {
          "base_uri": "https://localhost:8080/"
        },
        "outputId": "ebd36119-55ed-403b-baf4-abee1c895ec6"
      },
      "execution_count": 39,
      "outputs": [
        {
          "output_type": "stream",
          "name": "stdout",
          "text": [
            "Test Accuracy: 0.875\n"
          ]
        }
      ]
    }
  ]
}